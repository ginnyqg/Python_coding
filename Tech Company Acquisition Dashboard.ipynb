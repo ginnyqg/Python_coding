{
 "cells": [
  {
   "cell_type": "code",
   "execution_count": 1,
   "metadata": {},
   "outputs": [
    {
     "data": {
      "text/html": [
       "\n",
       "<!DOCTYPE HTML>\n",
       "<html>\n",
       "  <head>\n",
       "    <style>\n",
       "      body {\n",
       "        margin: 0px;\n",
       "        padding: 0px;\n",
       "      }\n",
       "    </style>\n",
       "  </head>\n",
       "  <body>\n",
       "    <canvas id=\"myCanvas\" width=\"500\" height=\"500\"></canvas>\n",
       "    <script>\n",
       "      var canvas = document.getElementById('myCanvas');\n",
       "      var context = canvas.getContext('2d');\n",
       "      <!-- Dashboard -->\n",
       "      context.beginPath();\n",
       "      context.rect(0, 0, 500, 500);\n",
       "      context.lineWidth = 2;\n",
       "      context.strokeStyle = 'black';\n",
       "      context.stroke();\n",
       "      </script>\n",
       "  </body>\n",
       "</html>\n"
      ],
      "text/plain": [
       "<IPython.core.display.HTML object>"
      ]
     },
     "execution_count": 1,
     "metadata": {},
     "output_type": "execute_result"
    }
   ],
   "source": [
    "import plotly\n",
    "plotly.tools.set_credentials_file(username = 'gqgg', api_key = 'Jj0cizKNthtkBLZAvBrP')\n",
    "\n",
    "import plotly.dashboard_objs as dashboard\n",
    "import plotly.plotly as py\n",
    "import plotly.graph_objs as go\n",
    "import cufflinks as cf\n",
    "\n",
    "import IPython.display\n",
    "from IPython.display import Image\n",
    "\n",
    "import numpy as np\n",
    "import pandas as pd\n",
    "import matplotlib.pyplot as plt\n",
    "\n",
    "my_dboard = dashboard.Dashboard()\n",
    "my_dboard.get_preview()"
   ]
  },
  {
   "cell_type": "code",
   "execution_count": 2,
   "metadata": {},
   "outputs": [],
   "source": [
    "raw = pd.read_csv(\"/Users/qinqingao/Desktop/Columbia/Courses/Fall 2018/APAN 5500 Viz/HW/A4/acquisitions.csv\")\n"
   ]
  },
  {
   "cell_type": "code",
   "execution_count": 3,
   "metadata": {},
   "outputs": [
    {
     "name": "stderr",
     "output_type": "stream",
     "text": [
      "/Library/Frameworks/Python.framework/Versions/3.6/lib/python3.6/site-packages/plotly/graph_objs/_deprecations.py:39: DeprecationWarning:\n",
      "\n",
      "plotly.graph_objs.Data is deprecated.\n",
      "Please replace it with a list or tuple of instances of the following types\n",
      "  - plotly.graph_objs.Scatter\n",
      "  - plotly.graph_objs.Bar\n",
      "  - plotly.graph_objs.Area\n",
      "  - plotly.graph_objs.Histogram\n",
      "  - etc.\n",
      "\n",
      "\n"
     ]
    },
    {
     "name": "stdout",
     "output_type": "stream",
     "text": [
      "High five! You successfully sent some data to your account on plotly. View your plot in your browser at https://plot.ly/~gqgg/0 or inside your plot.ly account where it is named 'bar-plot-cnt-PComp'\n",
      "High five! You successfully sent some data to your account on plotly. View your plot in your browser at https://plot.ly/~gqgg/0 or inside your plot.ly account where it is named 'bar-plot-cnt-PComp'\n"
     ]
    },
    {
     "data": {
      "text/html": [
       "<iframe id=\"igraph\" scrolling=\"no\" style=\"border:none;\" seamless=\"seamless\" src=\"https://plot.ly/~gqgg/0.embed\" height=\"500px\" width=\"800px\"></iframe>"
      ],
      "text/plain": [
       "<plotly.tools.PlotlyDisplay object>"
      ]
     },
     "execution_count": 3,
     "metadata": {},
     "output_type": "execute_result"
    }
   ],
   "source": [
    "\n",
    "import plotly.plotly as py\n",
    "import plotly.graph_objs as go\n",
    "\n",
    "cnt_PC = pd.DataFrame({'PComp': raw.ParentCompany.value_counts()})\n",
    "cnt_PC = cnt_PC.sort_values(by = 'PComp', ascending = False)\n",
    "\n",
    "data  = go.Data([\n",
    "                go.Bar(\n",
    "                x = cnt_PC.index,\n",
    "                y = cnt_PC.PComp,\n",
    "                text = cnt_PC.PComp,\n",
    "                textposition = 'outside',\n",
    "                marker = dict(\n",
    "                        color = 'orange',\n",
    "                        line = dict(\n",
    "                        color = 'orange',\n",
    "                        width = 1.5)\n",
    "                        ),\n",
    "                opacity = 0.6\n",
    "        )])\n",
    "\n",
    "layout = go.Layout(\n",
    "    width = 800,\n",
    "    height = 500,\n",
    "    title = \"<b>Acquisitions by Top 7 Tech Companies</b>\",\n",
    "    yaxis = go.layout.YAxis(\n",
    "    title = 'Count'\n",
    "    ))\n",
    "\n",
    "fig  = go.Figure(data = data, layout = layout)\n",
    "url_1 = py.plot(fig, filename = 'bar-plot-cnt-PComp', auto_open = False)\n",
    "py.iplot(fig, filename = 'bar-plot-cnt-PComp')\n",
    "\n",
    "\n",
    "# cnt_PC = raw.ParentCompany.value_counts()\n",
    "# cnt_PC.iplot(kind='bar', yTitle='Count', title='Acquisitions by Top 7 Tech Companies',\n",
    "#              filename='bar-plot-cnt-PComp_2')"
   ]
  },
  {
   "cell_type": "code",
   "execution_count": 4,
   "metadata": {
    "scrolled": true
   },
   "outputs": [],
   "source": [
    "# # create horizontal chart: Amount of Value (USD) acquired by Top 7 Tech Companies\n",
    "\n",
    "# amt_PC = pd.DataFrame(raw.groupby(['ParentCompany'])['Value (USD)'].sum())\n",
    "# amt_PC = amt_PC.sort_values(by = 'Value (USD)', ascending = True)\n",
    "\n",
    "\n",
    "# data  = go.Data([\n",
    "#                 go.Bar(\n",
    "#                 x = amt_PC['Value (USD)'], \n",
    "#                 y = amt_PC.index,\n",
    "#                 text = round(amt_PC['Value (USD)']/1000000000, 2),\n",
    "#                 textposition = 'outside',\n",
    "#                 marker = dict(\n",
    "#                         color = '#b8e5dd',\n",
    "#                         line = dict(\n",
    "#                         color = '#b8e5dd',\n",
    "#                         width = 1.5)\n",
    "#                         ),\n",
    "#                 opacity = 0.8,\n",
    "#                 orientation ='h'\n",
    "#         )])\n",
    "\n",
    "# layout = go.Layout(\n",
    "#     width = 1000,\n",
    "#     height = 500,\n",
    "#     title = \"<b>Amount of Acquisition (USD) by Top 7 Tech Companies</b>\",\n",
    "#     yaxis = go.layout.YAxis(\n",
    "#     title = 'Value (USD, $B)'\n",
    "#     ))\n",
    "\n",
    "# fig  = go.Figure(data = data, layout = layout)\n",
    "# url_2 = py.plot(fig, filename = 'hbar-plot-amt-PComp', auto_open = False)\n",
    "# py.iplot(fig, filename = 'hbar-plot-amt-PComp')\n"
   ]
  },
  {
   "cell_type": "code",
   "execution_count": 5,
   "metadata": {},
   "outputs": [
    {
     "data": {
      "text/html": [
       "<iframe id=\"igraph\" scrolling=\"no\" style=\"border:none;\" seamless=\"seamless\" src=\"https://plot.ly/~gqgg/11.embed\" height=\"525px\" width=\"100%\"></iframe>"
      ],
      "text/plain": [
       "<plotly.tools.PlotlyDisplay object>"
      ]
     },
     "execution_count": 5,
     "metadata": {},
     "output_type": "execute_result"
    }
   ],
   "source": [
    "amt_PC = pd.DataFrame(raw.groupby(['ParentCompany'])['Value (USD)'].sum())\n",
    "amt_PC = amt_PC.sort_values(by = 'Value (USD)', ascending = True)\n",
    "\n",
    "fig = {\n",
    "  \"data\": [\n",
    "    {\n",
    "      \"values\": amt_PC['Value (USD)'],\n",
    "      \"labels\": amt_PC.index,\n",
    "      \"domain\": {\"x\": [0, 1]},\n",
    "      \"hoverinfo\":\"label\",\n",
    "      \"hole\": .4,\n",
    "      \"type\": \"pie\"\n",
    "    }],\n",
    "  \"layout\": {\n",
    "        \"title\":\"<b>Amount of Acquisition (USD) by Top 7 Tech Companies</b>\",\n",
    "        \"annotations\": [\n",
    "            {\n",
    "                \"font\": {\n",
    "                    \"size\": 20\n",
    "                },\n",
    "                \"showarrow\": False,\n",
    "                \"text\": \"Top 7\",\n",
    "                \"x\": 0.5,\n",
    "                \"y\": 0.5\n",
    "            }\n",
    "        ]\n",
    "    }\n",
    "}\n",
    "\n",
    "\n",
    "url_2 = py.plot(fig, filename = 'donut', auto_open = False)\n",
    "py.iplot(fig, filename = 'donut')\n"
   ]
  },
  {
   "cell_type": "code",
   "execution_count": 6,
   "metadata": {},
   "outputs": [
    {
     "data": {
      "text/html": [
       "<iframe id=\"igraph\" scrolling=\"no\" style=\"border:none;\" seamless=\"seamless\" src=\"https://plot.ly/~gqgg/4.embed\" height=\"525px\" width=\"100%\"></iframe>"
      ],
      "text/plain": [
       "<plotly.tools.PlotlyDisplay object>"
      ]
     },
     "execution_count": 6,
     "metadata": {},
     "output_type": "execute_result"
    }
   ],
   "source": [
    "x0 = np.random.randn(50)\n",
    "x1 = np.random.randn(50) + 2\n",
    "x2 = np.random.randn(50) + 4\n",
    "x3 = np.random.randn(50) + 6\n",
    "\n",
    "colors = ['#FAEE1C', '#F3558E', '#9C1DE7', '#581B98']\n",
    "\n",
    "trace0 = go.Box(x=x0, marker={'color': colors[0]})\n",
    "trace1 = go.Box(x=x1, marker={'color': colors[1]})\n",
    "trace2 = go.Box(x=x2, marker={'color': colors[2]})\n",
    "trace3 = go.Box(x=x3, marker={'color': colors[3]})\n",
    "data = [trace0, trace1, trace2, trace3]\n",
    "\n",
    "url_3 = py.plot(data, filename='box-plots-for-dashboard_2', auto_open=False)\n",
    "py.iplot(data, filename='box-plots-for-dashboard_2')\n"
   ]
  },
  {
   "cell_type": "code",
   "execution_count": 7,
   "metadata": {},
   "outputs": [
    {
     "data": {
      "text/html": [
       "<iframe id=\"igraph\" scrolling=\"no\" style=\"border:none;\" seamless=\"seamless\" src=\"https://plot.ly/~gqgg/6.embed\" height=\"525px\" width=\"100%\"></iframe>"
      ],
      "text/plain": [
       "<plotly.tools.PlotlyDisplay object>"
      ]
     },
     "execution_count": 7,
     "metadata": {},
     "output_type": "execute_result"
    }
   ],
   "source": [
    "x0 = np.random.randn(50)\n",
    "x1 = np.random.randn(50) + 2\n",
    "x2 = np.random.randn(50) + 4\n",
    "x3 = np.random.randn(50) + 6\n",
    "\n",
    "colors = ['#FAEE1C', '#F3558E', '#9C1DE7', '#581B98']\n",
    "\n",
    "trace0 = go.Box(x=x0, marker={'color': colors[0]})\n",
    "trace1 = go.Box(x=x1, marker={'color': colors[1]})\n",
    "trace2 = go.Box(x=x2, marker={'color': colors[2]})\n",
    "trace3 = go.Box(x=x3, marker={'color': colors[3]})\n",
    "data = [trace0, trace1, trace2, trace3]\n",
    "\n",
    "url_4 = py.plot(data, filename='box-plots-for-dashboard_3', auto_open=False)\n",
    "py.iplot(data, filename='box-plots-for-dashboard_3')"
   ]
  },
  {
   "cell_type": "code",
   "execution_count": 8,
   "metadata": {},
   "outputs": [],
   "source": [
    "\n",
    "import re\n",
    "\n",
    "def fileId_from_url(url):\n",
    "    \"\"\"Return fileId from a url.\"\"\"\n",
    "    raw_fileId = re.findall(\"~[A-z]+/[0-9]+\", url)[0][1: ]\n",
    "    return raw_fileId.replace('/', ':')\n",
    "\n",
    "def sharekey_from_url(url):\n",
    "    \"\"\"Return the sharekey from a url.\"\"\"\n",
    "    if 'share_key=' not in url:\n",
    "        return \"This url is not 'sercret'. It does not have a secret key.\"\n",
    "    return url[url.find('share_key=') + len('share_key='):]\n",
    "\n",
    "fileId_1 = fileId_from_url(url_1)\n",
    "fileId_2 = fileId_from_url(url_2)\n",
    "fileId_3 = fileId_from_url(url_3)\n",
    "fileId_4 = fileId_from_url(url_4)\n",
    "\n",
    "\n",
    "text_for_box = \"\"\" \n",
    "#### Background \n",
    "This is a dashboard showing company acquisition data for the top 7 tech companies: \n",
    "[Google](https://abc.xyz/investor/), [Microsoft](https://www.microsoft.com/en-us/investor), [Facebook](https://investor.fb.com/home/default.aspx), [Apple](https://investor.apple.com/investor-relations/default.aspx), [Yahoo](https://finance.yahoo.com/), [Twitter](https://investor.twitterinc.com/investor-relations), [IBM](https://www.ibm.com/investor/)\n",
    "\n",
    "\n",
    "#### Viz 1\n",
    "1. Showing ...\n",
    "2. Explanation ...\n",
    "\n",
    "\n",
    "#### Viz 2\n",
    "1. Showing ...\n",
    "2. Explanation ...\n",
    "\n",
    "\n",
    "More information about the data can be found [here](https://www.kaggle.com/shivamb/company-acquisitions-7-top-companies).\n",
    "\"\"\"\n",
    "\n",
    "\n",
    "box_a = {\n",
    "    'type': 'box',\n",
    "    'boxType': 'plot',\n",
    "    'fileId': fileId_1,\n",
    "    'title': ''\n",
    "}\n",
    "\n",
    "box_b = {\n",
    "    'type': 'box',\n",
    "    'boxType': 'text',\n",
    "    'text': text_for_box,\n",
    "    'title': 'Background & Notes'\n",
    "}\n",
    "\n",
    "\n",
    "box_c = {\n",
    "    'type': 'box',\n",
    "    'boxType': 'plot',\n",
    "    'fileId': fileId_2,\n",
    "    'title': ''\n",
    "}\n",
    "\n",
    "box_d = {\n",
    "    'type': 'box',\n",
    "    'boxType': 'plot',\n",
    "    'fileId': fileId_3,\n",
    "    'title': ''\n",
    "}\n",
    "\n",
    "box_e = {\n",
    "    'type': 'box',\n",
    "    'boxType': 'plot',\n",
    "    'fileId': fileId_4,\n",
    "    'title': ''\n",
    "}\n"
   ]
  },
  {
   "cell_type": "code",
   "execution_count": 9,
   "metadata": {},
   "outputs": [
    {
     "data": {
      "text/html": [
       "\n",
       "<!DOCTYPE HTML>\n",
       "<html>\n",
       "  <head>\n",
       "    <style>\n",
       "      body {\n",
       "        margin: 0px;\n",
       "        padding: 0px;\n",
       "      }\n",
       "    </style>\n",
       "  </head>\n",
       "  <body>\n",
       "    <canvas id=\"myCanvas\" width=\"500\" height=\"500\"></canvas>\n",
       "    <script>\n",
       "      var canvas = document.getElementById('myCanvas');\n",
       "      var context = canvas.getContext('2d');\n",
       "      <!-- Dashboard -->\n",
       "      context.beginPath();\n",
       "      context.rect(0, 0, 500, 500);\n",
       "      context.lineWidth = 2;\n",
       "      context.strokeStyle = 'black';\n",
       "      context.stroke();\n",
       "     <!-- Draw some lines in -->\n",
       "          context.beginPath();\n",
       "          context.rect(350.0, 0, 1, 500);\n",
       "          context.lineWidth = 1;\n",
       "          context.strokeStyle = 'black';\n",
       "          context.stroke();\n",
       "    <!-- Draw some lines in -->\n",
       "          context.beginPath();\n",
       "          context.rect(0, 250.0, 350.0, 1);\n",
       "          context.lineWidth = 1;\n",
       "          context.strokeStyle = 'black';\n",
       "          context.stroke();\n",
       "    <!-- Draw some lines in -->\n",
       "          context.beginPath();\n",
       "          context.rect(350.0, 250.0, 150.0, 1);\n",
       "          context.lineWidth = 1;\n",
       "          context.strokeStyle = 'black';\n",
       "          context.stroke();\n",
       "    <!-- Insert box numbers -->\n",
       "          context.font = '9pt Times New Roman';\n",
       "          context.textAlign = 'center';\n",
       "          context.fillText(1, 0 + 0.5*350.0, 0 + 0.5*250.0);\n",
       "    <!-- Draw some lines in -->\n",
       "          context.beginPath();\n",
       "          context.rect(175.0, 250.0, 1, 250.0);\n",
       "          context.lineWidth = 1;\n",
       "          context.strokeStyle = 'black';\n",
       "          context.stroke();\n",
       "    <!-- Insert box numbers -->\n",
       "          context.font = '9pt Times New Roman';\n",
       "          context.textAlign = 'center';\n",
       "          context.fillText(4, 350.0 + 0.5*150.0, 0 + 0.5*250.0);\n",
       "    <!-- Insert box numbers -->\n",
       "          context.font = '9pt Times New Roman';\n",
       "          context.textAlign = 'center';\n",
       "          context.fillText(5, 350.0 + 0.5*150.0, 250.0 + 0.5*250.0);\n",
       "    <!-- Insert box numbers -->\n",
       "          context.font = '9pt Times New Roman';\n",
       "          context.textAlign = 'center';\n",
       "          context.fillText(2, 0 + 0.5*175.0, 250.0 + 0.5*250.0);\n",
       "    <!-- Insert box numbers -->\n",
       "          context.font = '9pt Times New Roman';\n",
       "          context.textAlign = 'center';\n",
       "          context.fillText(3, 175.0 + 0.5*175.0, 250.0 + 0.5*250.0);\n",
       "     </script>\n",
       "  </body>\n",
       "</html>\n"
      ],
      "text/plain": [
       "<IPython.core.display.HTML object>"
      ]
     },
     "execution_count": 9,
     "metadata": {},
     "output_type": "execute_result"
    }
   ],
   "source": [
    "# insert modules\n",
    "\n",
    "my_dboard.insert(box_a)\n",
    "\n",
    "my_dboard.insert(box_b, 'right', 1, fill_percent = 30)\n",
    "\n",
    "my_dboard.insert(box_c, 'below', 1)\n",
    "\n",
    "my_dboard.insert(box_d, 'right', 2)\n",
    "\n",
    "my_dboard.insert(box_e, 'below', 4)\n",
    "\n",
    "my_dboard.get_preview()\n"
   ]
  },
  {
   "cell_type": "code",
   "execution_count": 10,
   "metadata": {},
   "outputs": [],
   "source": [
    "my_dboard['settings']['title'] = 'Tech Company Acquisition Dashboard'\n"
   ]
  },
  {
   "cell_type": "code",
   "execution_count": 11,
   "metadata": {},
   "outputs": [],
   "source": [
    "# my_dboard['settings']['logoUrl'] = 'https://images.plot.ly/language-icons/api-home/python-logo.png'\n",
    "\n",
    "my_dboard['settings']['links'] = []\n",
    "my_dboard['settings']['links'].append({'title': 'Github', 'url': 'https://github.com/ginnyqg'})\n",
    "my_dboard['settings']['links'].append({'title': 'Website', 'url': 'https://ginnyqg.github.io'})\n"
   ]
  },
  {
   "cell_type": "code",
   "execution_count": 12,
   "metadata": {},
   "outputs": [],
   "source": [
    "my_dboard['settings']['foregroundColor'] = '#000000'\n",
    "my_dboard['settings']['backgroundColor'] = '#F4F7FB'\n",
    "my_dboard['settings']['headerForegroundColor'] = '#ffffff'\n",
    "my_dboard['settings']['headerBackgroundColor'] = '#4E87C2'\n",
    "my_dboard['settings']['boxBackgroundColor'] = '#ffffff'\n",
    "my_dboard['settings']['boxBorderColor'] = '#ffffff'\n",
    "my_dboard['settings']['boxHeaderBackgroundColor'] = '#ffffff'\n",
    "\n",
    "\n",
    "my_dboard['settings']['fontFamily'] = 'Raleway'\n",
    "my_dboard['settings']['headerFontSize'] = '2.4em'\n",
    "my_dboard['settings']['headerFontWeight'] = '600'\n"
   ]
  },
  {
   "cell_type": "code",
   "execution_count": 13,
   "metadata": {},
   "outputs": [],
   "source": [
    "stacked_dboard = dashboard.Dashboard()\n",
    "text_box = {\n",
    "    'type': 'box',\n",
    "    'boxType': 'text',\n",
    "    'text': 'empty space'\n",
    "}\n",
    "for _ in range(5):\n",
    "    stacked_dboard.insert(text_box, 'below', 1)\n",
    "\n",
    "# stacked_dboard.get_preview()\n"
   ]
  },
  {
   "cell_type": "code",
   "execution_count": 14,
   "metadata": {},
   "outputs": [],
   "source": [
    "stacked_dboard['layout']['size'] = 2400\n"
   ]
  },
  {
   "cell_type": "code",
   "execution_count": 15,
   "metadata": {},
   "outputs": [
    {
     "data": {
      "text/plain": [
       "'https://plot.ly/~gqgg/10/tech-company-acquisition-dashboard/'"
      ]
     },
     "execution_count": 15,
     "metadata": {},
     "output_type": "execute_result"
    }
   ],
   "source": [
    "py.dashboard_ops.upload(my_dboard, 'Tech Company Acquisition Dashboard')\n"
   ]
  }
 ],
 "metadata": {
  "kernelspec": {
   "display_name": "Python 3",
   "language": "python",
   "name": "python3"
  },
  "language_info": {
   "codemirror_mode": {
    "name": "ipython",
    "version": 3
   },
   "file_extension": ".py",
   "mimetype": "text/x-python",
   "name": "python",
   "nbconvert_exporter": "python",
   "pygments_lexer": "ipython3",
   "version": "3.6.4"
  }
 },
 "nbformat": 4,
 "nbformat_minor": 2
}
